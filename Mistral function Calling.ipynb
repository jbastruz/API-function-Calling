{
 "cells": [
  {
   "cell_type": "markdown",
   "metadata": {},
   "source": [
    "<img src=\"https://media.theresanaiforthat.com/icons/mistral-ai.svg?height=207\" width=\"30\" height=\"30\">\n",
    "<br>\n",
    "<h1 align='center'>Python Function Call Test</h1>\n",
    "\n",
    "---\n",
    "\n",
    "This notebook aims to familiarize myself with a simple example of calling Python functions in the context of a textual conversation with a `Mistral` model.\n",
    "\n",
    "Function calling is a feature that allows Mistral models to connect to external tools. By integrating these models with external tools such as user-defined functions or APIs, we can easily create applications that respond to specific use cases and solve practical problems. For example, in this guide, we have developed several functions to navigate a database. This allows for more finely-tuned and transparent interactions with the database.\n",
    "\n",
    "**_This version of the notebook allows you to test function calls with external APIs, including an API requiring authentication._**\n",
    "\n",
    "There are four steps involved in function calling:\n",
    "\n",
    "- **User**: specify the tools and the query\n",
    "- **Model**: generate function arguments if necessary\n",
    "- **User**: execute the function to obtain the tool results\n",
    "- **Model**: generate the final response\n",
    "\n",
    "## Package Loading:"
   ]
  },
  {
   "cell_type": "code",
   "execution_count": 104,
   "metadata": {},
   "outputs": [],
   "source": [
    "import pandas as pd\n",
    "import functools\n",
    "import requests\n",
    "import json\n",
    "from mistralai.client import MistralClient\n",
    "from requests.auth import HTTPBasicAuth\n",
    "from mistralai.models.chat_completion import ChatMessage"
   ]
  },
  {
   "cell_type": "markdown",
   "metadata": {},
   "source": [
    "# Création de la base de données :"
   ]
  },
  {
   "cell_type": "code",
   "execution_count": 105,
   "metadata": {},
   "outputs": [],
   "source": [
    "# Assuming we have the following data\n",
    "data = {\n",
    "    'transaction_id': ['T1001', 'T1002', 'T1003', 'T1004', 'T1005'],\n",
    "    'customer_id': ['C001', 'C002', 'C003', 'C002', 'C001'],\n",
    "    'payment_amount': [125.50, 89.99, 120.00, 54.30, 210.20],\n",
    "    'payment_date': ['2021-10-05', '2021-10-06', '2021-10-07', '2021-10-05', '2021-10-08'],\n",
    "    'payment_status': ['Paid', 'Unpaid', 'Paid', 'Paid', 'Pending']\n",
    "}\n",
    "\n",
    "# Create DataFrame\n",
    "df = pd.DataFrame(data)\n",
    "\n",
    "# Save DataFrame to CSV file\n",
    "df.to_csv('items.csv', index=False)"
   ]
  },
  {
   "cell_type": "markdown",
   "metadata": {},
   "source": [
    "This database will be used by the model to answer questions. To do this, it is necessary to create a series of functions that Mistral will use to query the database.\n",
    "\n",
    "These functions must be designed in such a way that they can extract a JSON file that can be used by the model.\n",
    "\n",
    "# Function Declaration:"
   ]
  },
  {
   "cell_type": "code",
   "execution_count": 106,
   "metadata": {},
   "outputs": [],
   "source": [
    "def retrieve_payment_status(transaction_id: str) -> str:\n",
    "    data = requests.api.get(\"http://127.0.0.1:8000/Transaction/\" + transaction_id).json()\n",
    "    if data is not {'detail': 'Item not found'}: \n",
    "        return json.dumps({'status': data['Payment_status']}, indent=2)\n",
    "    return json.dumps({'error': 'transaction id not found.'})\n",
    "\n",
    "def retrieve_payment_date(transaction_id: str) -> str:\n",
    "    data = requests.api.get(\"http://127.0.0.1:8000/Transaction/\" + transaction_id).json()\n",
    "    if data is not {'detail': 'Item not found'}: \n",
    "        return json.dumps({'date': data['Payment_status']}, indent=2)\n",
    "    return json.dumps({'error': 'transaction id not found.'})\n",
    "\n",
    "def retrieve_payment_max() -> str:\n",
    "    data = requests.api.get(\"http://127.0.0.1:8000/Transaction/max\").json()\n",
    "    if data is not {'detail': 'Item not found'}: \n",
    "        return json.dumps(data, indent=2)\n",
    "    return json.dumps({'error': 'transaction id not found.'})\n",
    "\n",
    "def retrieve_payment_min() -> str:\n",
    "    data = requests.api.get(\"http://127.0.0.1:8000/Transaction/min\").json()\n",
    "    if data is not {'detail': 'Item not found'}: \n",
    "        return json.dumps(data, indent=2)\n",
    "    return json.dumps({'error': 'transaction id not found.'})\n",
    "\n",
    "def retrieve_payment_count(password : str) -> str: #password : str\n",
    "    data = requests.api.get(\"http://127.0.0.1:8000/Transaction/count\", auth=HTTPBasicAuth(\"your_username\", password)).json()\n",
    "    if data is not {'detail': 'Item not found'}: \n",
    "        return json.dumps({'count' : data}, indent=2)\n",
    "    return json.dumps({'error': 'transaction id not found.'})"
   ]
  },
  {
   "cell_type": "markdown",
   "metadata": {},
   "source": [
    "In order for Mistral models to understand and use the functions, it is necessary to describe the specifications of each function using a JSON schema. This involves defining the type, name, description, parameters, and required parameters for each function. In our case, we have two functions to specify, so we need to list two function specifications in a list.\n",
    "\n",
    "Currently, I do not know of a method to perform this step automatically and quickly."
   ]
  },
  {
   "cell_type": "code",
   "execution_count": 107,
   "metadata": {},
   "outputs": [],
   "source": [
    "tools = [\n",
    "    {\n",
    "        \"type\": \"function\",\n",
    "        \"function\": {\n",
    "            \"name\": \"retrieve_payment_status\",\n",
    "            \"description\": \"Get payment status of a transaction\",\n",
    "            \"parameters\": {\n",
    "                \"type\": \"object\",\n",
    "                \"properties\": {\n",
    "                    \"transaction_id\": {\n",
    "                        \"type\": \"string\",\n",
    "                        \"description\": \"The transaction id.\",\n",
    "                    }\n",
    "                },\n",
    "                \"required\": [\"transaction_id\"],\n",
    "            },\n",
    "        },\n",
    "    },\n",
    "    {\n",
    "        \"type\": \"function\",\n",
    "        \"function\": {\n",
    "            \"name\": \"retrieve_payment_date\",\n",
    "            \"description\": \"Get payment date of a transaction\",\n",
    "            \"parameters\": {\n",
    "                \"type\": \"object\",\n",
    "                \"properties\": {\n",
    "                    \"transaction_id\": {\n",
    "                        \"type\": \"string\",\n",
    "                        \"description\": \"The transaction id.\",\n",
    "                    }\n",
    "                },\n",
    "                \"required\": [\"transaction_id\"],\n",
    "            },\n",
    "        },\n",
    "    },\n",
    "    {\n",
    "        \"type\": \"function\",\n",
    "        \"function\": {\n",
    "            \"name\": \"retrieve_payment_max\",\n",
    "            \"description\": \"Get payment max of all transactions\",\n",
    "            \"parameters\": {\n",
    "                \"type\": \"object\",\n",
    "                \"properties\": {},\n",
    "                \"required\": [],\n",
    "            },\n",
    "        },\n",
    "    },\n",
    "    {\n",
    "        \"type\": \"function\",\n",
    "        \"function\": {\n",
    "            \"name\": \"retrieve_payment_min\",\n",
    "            \"description\": \"Get payment min of all transactions\",\n",
    "            \"parameters\": {\n",
    "                \"type\": \"object\",\n",
    "                \"properties\": {},\n",
    "                \"required\": [],\n",
    "            },\n",
    "        },\n",
    "    },\n",
    "    {\n",
    "        \"type\": \"function\",\n",
    "        \"function\": {\n",
    "            \"name\": \"retrieve_payment_count\",\n",
    "            \"description\": \"Get payment count of all transactions\",\n",
    "            \"parameters\": {\n",
    "                \"type\": \"object\",\n",
    "                \"properties\": {\n",
    "                    \"password\": {\n",
    "                        \"type\": \"string\",\n",
    "                        \"description\": \"The password.\",\n",
    "                    }\n",
    "                },\n",
    "                \"required\": ['password'],\n",
    "            },\n",
    "        },\n",
    "    },\n",
    "]"
   ]
  },
  {
   "cell_type": "code",
   "execution_count": 108,
   "metadata": {},
   "outputs": [
    {
     "data": {
      "text/plain": [
       "5"
      ]
     },
     "execution_count": 108,
     "metadata": {},
     "output_type": "execute_result"
    }
   ],
   "source": [
    "username = \"your_username\"\n",
    "password = \"your_password\"\n",
    "data = requests.api.get(\"http://127.0.0.1:8000/Transaction/count\", auth=HTTPBasicAuth(username, password)).json()\n",
    "data"
   ]
  },
  {
   "cell_type": "markdown",
   "metadata": {},
   "source": [
    "Next, we need to organize the two functions into a dictionary where the keys represent the name of each function and the values correspond to the functions themselves, with the dataframe defined as a parameter. This organization allows us to call each function using its function name.\n",
    "\n",
    "This step will enable the model to select and call the appropriate function based on the question asked."
   ]
  },
  {
   "cell_type": "code",
   "execution_count": 109,
   "metadata": {},
   "outputs": [],
   "source": [
    "names_to_functions = {\n",
    "    'retrieve_payment_status': functools.partial(retrieve_payment_status),\n",
    "    'retrieve_payment_date': functools.partial(retrieve_payment_date),\n",
    "    'retrieve_payment_max': functools.partial(retrieve_payment_max),\n",
    "    'retrieve_payment_min': functools.partial(retrieve_payment_min),\n",
    "    'retrieve_payment_count': functools.partial(retrieve_payment_count),\n",
    "}"
   ]
  },
  {
   "cell_type": "markdown",
   "metadata": {},
   "source": [
    "We will now initialize the conversation with the Mistral model."
   ]
  },
  {
   "cell_type": "code",
   "execution_count": 110,
   "metadata": {},
   "outputs": [],
   "source": [
    "messages = [\n",
    "    ChatMessage(role=\"system\", content=\"ta langue de discussion est le français\"),\n",
    "    ChatMessage(role=\"user\", content=\"combien y'a il de transcation actuellement?\")\n",
    "]"
   ]
  },
  {
   "cell_type": "markdown",
   "metadata": {},
   "source": [
    "# Function Selection\n",
    "Initialization of the client and client response call"
   ]
  },
  {
   "cell_type": "code",
   "execution_count": 111,
   "metadata": {},
   "outputs": [
    {
     "name": "stdout",
     "output_type": "stream",
     "text": [
      "To get the count of all transactions, I need to call the `retrieve_payment_count` function. However, it requires a password. Could you please provide the password?\n"
     ]
    }
   ],
   "source": [
    "model = \"mistral-large-latest\"\n",
    "api_key=\"dXhF7z625frqL76yHgWY5PZJ9l0298mg\" # ne fonctionne plus après le 31 mars 2024\n",
    "\n",
    "client = MistralClient(api_key=api_key)\n",
    "response = client.chat(model=model, messages=messages, tools=tools, tool_choice=\"auto\")\n",
    "print(response.choices[0].message.content)"
   ]
  },
  {
   "cell_type": "code",
   "execution_count": 112,
   "metadata": {},
   "outputs": [],
   "source": [
    "messages.append(response.choices[0].message)\n",
    "messages.append(ChatMessage(role=\"user\", content=\"Mon mot de passe est 'your_password'\"))\n",
    "response = client.chat(model=model, messages=messages, tools=tools, tool_choice=\"auto\")\n",
    "messages.append(response.choices[0].message)"
   ]
  },
  {
   "cell_type": "markdown",
   "metadata": {},
   "source": [
    "# Execution of Selected Function"
   ]
  },
  {
   "cell_type": "code",
   "execution_count": 113,
   "metadata": {},
   "outputs": [
    {
     "name": "stdout",
     "output_type": "stream",
     "text": [
      "\n",
      "function_name:  retrieve_payment_count \n",
      "function_params:  {'password': 'your_password'}\n"
     ]
    }
   ],
   "source": [
    "tool_call = response.choices[0].message.tool_calls[0]\n",
    "function_name = tool_call.function.name\n",
    "function_params = json.loads(tool_call.function.arguments)\n",
    "print(\"\\nfunction_name: \", function_name, \"\\nfunction_params: \", function_params)"
   ]
  },
  {
   "cell_type": "code",
   "execution_count": 114,
   "metadata": {},
   "outputs": [
    {
     "data": {
      "text/plain": [
       "'{\\n  \"count\": 5\\n}'"
      ]
     },
     "execution_count": 114,
     "metadata": {},
     "output_type": "execute_result"
    }
   ],
   "source": [
    "function_result = names_to_functions[function_name](**function_params)\n",
    "function_result"
   ]
  },
  {
   "cell_type": "code",
   "execution_count": 115,
   "metadata": {},
   "outputs": [
    {
     "name": "stdout",
     "output_type": "stream",
     "text": [
      "Il y a actuellement 5 transactions.\n"
     ]
    }
   ],
   "source": [
    "messages.append(ChatMessage(role=\"tool\", name=function_name, content=function_result))\n",
    "\n",
    "response = client.chat(model=model, messages=messages)\n",
    "messages.append(response.choices[0].message)\n",
    "print(response.choices[0].message.content)"
   ]
  },
  {
   "cell_type": "markdown",
   "metadata": {},
   "source": [
    "**Conclusion**: This notebook demonstrates the feasibility of a data exploration tool based on a textual assistant. Currently, the code execution is manual and local, but it is possible to modify the code to automate this step and provide a seamless experience with the model. Moreover, it is possible to improve the interactions between the database and the model by adding additional functions."
   ]
  }
 ],
 "metadata": {
  "kernelspec": {
   "display_name": "Chatbot",
   "language": "python",
   "name": "python3"
  },
  "language_info": {
   "codemirror_mode": {
    "name": "ipython",
    "version": 3
   },
   "file_extension": ".py",
   "mimetype": "text/x-python",
   "name": "python",
   "nbconvert_exporter": "python",
   "pygments_lexer": "ipython3",
   "version": "3.12.2"
  }
 },
 "nbformat": 4,
 "nbformat_minor": 2
}
