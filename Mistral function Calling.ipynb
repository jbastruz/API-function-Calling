{
 "cells": [
  {
   "cell_type": "markdown",
   "metadata": {},
   "source": [
    "\n",
    "<img src=\"https://media.theresanaiforthat.com/icons/mistral-ai.svg?height=207\" width=\"30\" height=\"30\">\n",
    "<br>\n",
    "<h1 align = 'center'>Test de d'appel de fonction python</h1>\n",
    "\n",
    "---\n",
    "\n",
    "Ce notebook vise à me familiariser avec un exemple simple d'appel de fonction Python dans le cadre d'une discussion textuelle avec un modèle `Mistral`.\n",
    "<br><br>\n",
    "L'appel de fonctions est une fonctionnalité qui permet aux modèles Mistral de se connecter à des outils externes. En intégrant ces modèles à des outils externes tels que des fonctions ou des API définies par l'utilisateur, nous pouvons facilement créer des applications qui répondent à des cas d'utilisation spécifiques et résolvent des problèmes pratiques. Par exemple, dans ce guide, nous avons développé plusieurs fonctions pour naviguer dans une base de donnée. cela permet d'avoir des interaction plus fine et transparente avec la base de données.\n",
    "<br><br>\n",
    "**_Cette version du notebook vous permet de tester l'appel de fonction avec des API externes, y compris une API nécessitant une authentification._**\n",
    "<br><br>\n",
    "il y a quatre étapes avec l'appel de fonction :\n",
    "\n",
    "- **Utilisateur** : spécifier les outils et la requête\n",
    "\n",
    "- **Modèle** : Générer des arguments de fonction le cas échéant\n",
    "\n",
    "- **Utilisateur** : Exécuter la fonction pour obtenir les résultats de l'outil\n",
    "\n",
    "- **Modèle** : Générer la réponse finale\n",
    "\n",
    "## Chargement des packages :"
   ]
  },
  {
   "cell_type": "code",
   "execution_count": 104,
   "metadata": {},
   "outputs": [],
   "source": [
    "import pandas as pd\n",
    "import functools\n",
    "import requests\n",
    "import json\n",
    "from mistralai.client import MistralClient\n",
    "from requests.auth import HTTPBasicAuth\n",
    "from mistralai.models.chat_completion import ChatMessage"
   ]
  },
  {
   "cell_type": "markdown",
   "metadata": {},
   "source": [
    "# Création de la base de données :"
   ]
  },
  {
   "cell_type": "code",
   "execution_count": 105,
   "metadata": {},
   "outputs": [],
   "source": [
    "# Assuming we have the following data\n",
    "data = {\n",
    "    'transaction_id': ['T1001', 'T1002', 'T1003', 'T1004', 'T1005'],\n",
    "    'customer_id': ['C001', 'C002', 'C003', 'C002', 'C001'],\n",
    "    'payment_amount': [125.50, 89.99, 120.00, 54.30, 210.20],\n",
    "    'payment_date': ['2021-10-05', '2021-10-06', '2021-10-07', '2021-10-05', '2021-10-08'],\n",
    "    'payment_status': ['Paid', 'Unpaid', 'Paid', 'Paid', 'Pending']\n",
    "}\n",
    "\n",
    "# Create DataFrame\n",
    "df = pd.DataFrame(data)\n",
    "\n",
    "# Save DataFrame to CSV file\n",
    "df.to_csv('items.csv', index=False)"
   ]
  },
  {
   "cell_type": "markdown",
   "metadata": {},
   "source": [
    "Cette base de données sera utilisée par le modèle pour répondre aux questions. Pour ce faire, il est nécessaire de créer une série de fonctions que Mistral utilisera pour interroger la base de données. \n",
    "<br><br>\n",
    "Ces fonctions doivent être conçues de manière à ce qu'elles puissent extraire un fichier JSON exploitable par le modèle.\n",
    "\n",
    "# Déclaration des fonctions :"
   ]
  },
  {
   "cell_type": "code",
   "execution_count": 106,
   "metadata": {},
   "outputs": [],
   "source": [
    "def retrieve_payment_status(transaction_id: str) -> str:\n",
    "    data = requests.api.get(\"http://127.0.0.1:8000/Transaction/\" + transaction_id).json()\n",
    "    if data is not {'detail': 'Item not found'}: \n",
    "        return json.dumps({'status': data['Payment_status']}, indent=2)\n",
    "    return json.dumps({'error': 'transaction id not found.'})\n",
    "\n",
    "def retrieve_payment_date(transaction_id: str) -> str:\n",
    "    data = requests.api.get(\"http://127.0.0.1:8000/Transaction/\" + transaction_id).json()\n",
    "    if data is not {'detail': 'Item not found'}: \n",
    "        return json.dumps({'date': data['Payment_status']}, indent=2)\n",
    "    return json.dumps({'error': 'transaction id not found.'})\n",
    "\n",
    "def retrieve_payment_max() -> str:\n",
    "    data = requests.api.get(\"http://127.0.0.1:8000/Transaction/max\").json()\n",
    "    if data is not {'detail': 'Item not found'}: \n",
    "        return json.dumps(data, indent=2)\n",
    "    return json.dumps({'error': 'transaction id not found.'})\n",
    "\n",
    "def retrieve_payment_min() -> str:\n",
    "    data = requests.api.get(\"http://127.0.0.1:8000/Transaction/min\").json()\n",
    "    if data is not {'detail': 'Item not found'}: \n",
    "        return json.dumps(data, indent=2)\n",
    "    return json.dumps({'error': 'transaction id not found.'})\n",
    "\n",
    "def retrieve_payment_count(password : str) -> str: #password : str\n",
    "    data = requests.api.get(\"http://127.0.0.1:8000/Transaction/count\", auth=HTTPBasicAuth(\"your_username\", password)).json()\n",
    "    if data is not {'detail': 'Item not found'}: \n",
    "        return json.dumps({'count' : data}, indent=2)\n",
    "    return json.dumps({'error': 'transaction id not found.'})"
   ]
  },
  {
   "cell_type": "markdown",
   "metadata": {},
   "source": [
    "Pour que les modèles Mistral puissent comprendre et utiliser les fonctions, il est nécessaire de décrire les spécifications de chaque fonction à l'aide d'un schéma JSON. Cela implique de définir le type, le nom, la description, les paramètres et les paramètres requis pour chaque fonction. Dans notre cas, nous avons deux fonctions à spécifier, nous devons donc énumérer deux spécifications de fonction dans une liste.\n",
    "\n",
    "Actuellement, je ne connais pas de méthode permettant de réaliser cette étape automatiquement et rapidement."
   ]
  },
  {
   "cell_type": "code",
   "execution_count": 107,
   "metadata": {},
   "outputs": [],
   "source": [
    "tools = [\n",
    "    {\n",
    "        \"type\": \"function\",\n",
    "        \"function\": {\n",
    "            \"name\": \"retrieve_payment_status\",\n",
    "            \"description\": \"Get payment status of a transaction\",\n",
    "            \"parameters\": {\n",
    "                \"type\": \"object\",\n",
    "                \"properties\": {\n",
    "                    \"transaction_id\": {\n",
    "                        \"type\": \"string\",\n",
    "                        \"description\": \"The transaction id.\",\n",
    "                    }\n",
    "                },\n",
    "                \"required\": [\"transaction_id\"],\n",
    "            },\n",
    "        },\n",
    "    },\n",
    "    {\n",
    "        \"type\": \"function\",\n",
    "        \"function\": {\n",
    "            \"name\": \"retrieve_payment_date\",\n",
    "            \"description\": \"Get payment date of a transaction\",\n",
    "            \"parameters\": {\n",
    "                \"type\": \"object\",\n",
    "                \"properties\": {\n",
    "                    \"transaction_id\": {\n",
    "                        \"type\": \"string\",\n",
    "                        \"description\": \"The transaction id.\",\n",
    "                    }\n",
    "                },\n",
    "                \"required\": [\"transaction_id\"],\n",
    "            },\n",
    "        },\n",
    "    },\n",
    "    {\n",
    "        \"type\": \"function\",\n",
    "        \"function\": {\n",
    "            \"name\": \"retrieve_payment_max\",\n",
    "            \"description\": \"Get payment max of all transactions\",\n",
    "            \"parameters\": {\n",
    "                \"type\": \"object\",\n",
    "                \"properties\": {},\n",
    "                \"required\": [],\n",
    "            },\n",
    "        },\n",
    "    },\n",
    "    {\n",
    "        \"type\": \"function\",\n",
    "        \"function\": {\n",
    "            \"name\": \"retrieve_payment_min\",\n",
    "            \"description\": \"Get payment min of all transactions\",\n",
    "            \"parameters\": {\n",
    "                \"type\": \"object\",\n",
    "                \"properties\": {},\n",
    "                \"required\": [],\n",
    "            },\n",
    "        },\n",
    "    },\n",
    "    {\n",
    "        \"type\": \"function\",\n",
    "        \"function\": {\n",
    "            \"name\": \"retrieve_payment_count\",\n",
    "            \"description\": \"Get payment count of all transactions\",\n",
    "            \"parameters\": {\n",
    "                \"type\": \"object\",\n",
    "                \"properties\": {\n",
    "                    \"password\": {\n",
    "                        \"type\": \"string\",\n",
    "                        \"description\": \"The password.\",\n",
    "                    }\n",
    "                },\n",
    "                \"required\": ['password'],\n",
    "            },\n",
    "        },\n",
    "    },\n",
    "]"
   ]
  },
  {
   "cell_type": "code",
   "execution_count": 108,
   "metadata": {},
   "outputs": [
    {
     "data": {
      "text/plain": [
       "5"
      ]
     },
     "execution_count": 108,
     "metadata": {},
     "output_type": "execute_result"
    }
   ],
   "source": [
    "username = \"your_username\"\n",
    "password = \"your_password\"\n",
    "data = requests.api.get(\"http://127.0.0.1:8000/Transaction/count\", auth=HTTPBasicAuth(username, password)).json()\n",
    "data"
   ]
  },
  {
   "cell_type": "markdown",
   "metadata": {},
   "source": [
    "Ensuite, nous devons organiser les deux fonctions dans un dictionnaire, où les clés représentent le nom de chaque fonction et les valeurs correspondent aux fonctions elles-mêmes, avec le dataframe défini en tant que paramètre. Cette organisation nous permet d'appeler chaque fonction en utilisant son nom de fonction.\n",
    "\n",
    "Cette étape permettra au modèle de sélectionner et d'appeler la bonne fonction en fonction de la question posée."
   ]
  },
  {
   "cell_type": "code",
   "execution_count": 109,
   "metadata": {},
   "outputs": [],
   "source": [
    "names_to_functions = {\n",
    "    'retrieve_payment_status': functools.partial(retrieve_payment_status),\n",
    "    'retrieve_payment_date': functools.partial(retrieve_payment_date),\n",
    "    'retrieve_payment_max': functools.partial(retrieve_payment_max),\n",
    "    'retrieve_payment_min': functools.partial(retrieve_payment_min),\n",
    "    'retrieve_payment_count': functools.partial(retrieve_payment_count),\n",
    "}"
   ]
  },
  {
   "cell_type": "markdown",
   "metadata": {},
   "source": [
    "Nous allons maintenant initialiser la conversation avec le modèle Mistral."
   ]
  },
  {
   "cell_type": "code",
   "execution_count": 110,
   "metadata": {},
   "outputs": [],
   "source": [
    "messages = [\n",
    "    ChatMessage(role=\"system\", content=\"ta langue de discussion est le français\"),\n",
    "    ChatMessage(role=\"user\", content=\"combien y'a il de transcation actuellement?\")\n",
    "]"
   ]
  },
  {
   "cell_type": "markdown",
   "metadata": {},
   "source": [
    "# Selection de la fonction a appeler\n",
    "Initialisation du client et appel de réponse client"
   ]
  },
  {
   "cell_type": "code",
   "execution_count": 111,
   "metadata": {},
   "outputs": [
    {
     "name": "stdout",
     "output_type": "stream",
     "text": [
      "To get the count of all transactions, I need to call the `retrieve_payment_count` function. However, it requires a password. Could you please provide the password?\n"
     ]
    }
   ],
   "source": [
    "model = \"mistral-large-latest\"\n",
    "api_key=\"dXhF7z625frqL76yHgWY5PZJ9l0298mg\" # ne fonctionne plus après le 31 mars 2024\n",
    "\n",
    "client = MistralClient(api_key=api_key)\n",
    "response = client.chat(model=model, messages=messages, tools=tools, tool_choice=\"auto\")\n",
    "print(response.choices[0].message.content)"
   ]
  },
  {
   "cell_type": "code",
   "execution_count": 112,
   "metadata": {},
   "outputs": [],
   "source": [
    "messages.append(response.choices[0].message)\n",
    "messages.append(ChatMessage(role=\"user\", content=\"Mon mot de passe est 'your_password'\"))\n",
    "response = client.chat(model=model, messages=messages, tools=tools, tool_choice=\"auto\")\n",
    "messages.append(response.choices[0].message)"
   ]
  },
  {
   "cell_type": "markdown",
   "metadata": {},
   "source": [
    "# Execution de la fonction selectionnée"
   ]
  },
  {
   "cell_type": "code",
   "execution_count": 113,
   "metadata": {},
   "outputs": [
    {
     "name": "stdout",
     "output_type": "stream",
     "text": [
      "\n",
      "function_name:  retrieve_payment_count \n",
      "function_params:  {'password': 'your_password'}\n"
     ]
    }
   ],
   "source": [
    "tool_call = response.choices[0].message.tool_calls[0]\n",
    "function_name = tool_call.function.name\n",
    "function_params = json.loads(tool_call.function.arguments)\n",
    "print(\"\\nfunction_name: \", function_name, \"\\nfunction_params: \", function_params)"
   ]
  },
  {
   "cell_type": "code",
   "execution_count": 114,
   "metadata": {},
   "outputs": [
    {
     "data": {
      "text/plain": [
       "'{\\n  \"count\": 5\\n}'"
      ]
     },
     "execution_count": 114,
     "metadata": {},
     "output_type": "execute_result"
    }
   ],
   "source": [
    "function_result = names_to_functions[function_name](**function_params)\n",
    "function_result"
   ]
  },
  {
   "cell_type": "code",
   "execution_count": 115,
   "metadata": {},
   "outputs": [
    {
     "name": "stdout",
     "output_type": "stream",
     "text": [
      "Il y a actuellement 5 transactions.\n"
     ]
    }
   ],
   "source": [
    "messages.append(ChatMessage(role=\"tool\", name=function_name, content=function_result))\n",
    "\n",
    "response = client.chat(model=model, messages=messages)\n",
    "messages.append(response.choices[0].message)\n",
    "print(response.choices[0].message.content)"
   ]
  },
  {
   "cell_type": "markdown",
   "metadata": {},
   "source": [
    "**Conclusion** : Ce notebook démontre la faisabilité d'un outil d'exploration de données basé sur un assistant textuel. Actuellement, l'exécution du code est manuelle et locale, mais il est possible de modifier le code pour automatiser cette étape et offrir une expérience transparente avec le modèle. De plus, il est possible d'améliorer les interactions entre la base de données et le modèle en ajoutant des fonctions supplémentaires."
   ]
  }
 ],
 "metadata": {
  "kernelspec": {
   "display_name": "Chatbot",
   "language": "python",
   "name": "python3"
  },
  "language_info": {
   "codemirror_mode": {
    "name": "ipython",
    "version": 3
   },
   "file_extension": ".py",
   "mimetype": "text/x-python",
   "name": "python",
   "nbconvert_exporter": "python",
   "pygments_lexer": "ipython3",
   "version": "3.12.2"
  }
 },
 "nbformat": 4,
 "nbformat_minor": 2
}
